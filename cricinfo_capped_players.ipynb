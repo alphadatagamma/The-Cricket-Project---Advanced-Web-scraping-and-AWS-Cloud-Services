{
 "cells": [
  {
   "cell_type": "markdown",
   "metadata": {},
   "source": [
    "## The Python web scraping notebook 5: Player Capping Details"
   ]
  },
  {
   "cell_type": "markdown",
   "metadata": {},
   "source": [
    "### https://www.espncricinfo.com/\n",
    "* Mens cricket player Data for all capped players for top 10 countries"
   ]
  },
  {
   "cell_type": "code",
   "execution_count": 5,
   "metadata": {},
   "outputs": [],
   "source": [
    "# Importing the libraries\n",
    "import pandas as pd\n",
    "import re\n",
    "import requests\n",
    "from bs4 import BeautifulSoup"
   ]
  },
  {
   "cell_type": "code",
   "execution_count": 13,
   "metadata": {},
   "outputs": [],
   "source": [
    "# Country to country ID mapping\n",
    "\n",
    "main_link = 'https://www.espncricinfo.com/ci/content/player/index.html'\n",
    "response = requests.get(main_link)\n",
    "html_soup = BeautifulSoup(response.text, 'html.parser')\n",
    "text = str(html_soup.find_all(\"li\", class_=['selectedtab',\"ctrytab\"]))\n",
    "html_soup.find_all(\"li\", class_=['selectedtab',\"ctrytab\"])\n",
    "\n",
    "country_id = re.findall(r'(?<=country=)[0-9]+(?=\")', text)\n",
    "#print(country_id)\n",
    "country_name = re.findall(r'(?<=\">)[a-zA-Z ]+(?=<\\/a)', text)\n",
    "#print(country_name)\n",
    "\n",
    "country_data = pd.DataFrame({'Id' : country_id,\n",
    "                            'Country_Name' : country_name\n",
    "                                })\n",
    "country_data.to_csv(\"Country Data.csv\")\n",
    "country_data\n",
    "\n",
    "Format_dict = {'1':'Test', '2':'ODI', '3':'T20'}"
   ]
  },
  {
   "cell_type": "markdown",
   "metadata": {},
   "source": [
    "### Getting the Latest Team rankings"
   ]
  },
  {
   "cell_type": "code",
   "execution_count": 16,
   "metadata": {},
   "outputs": [
    {
     "name": "stdout",
     "output_type": "stream",
     "text": [
      "https://www.espncricinfo.com/ci/content/player/caps.html?country=2;class=1\n",
      "458\n",
      "458\n",
      "https://www.espncricinfo.com/ci/content/player/caps.html?country=2;class=2\n",
      "229\n",
      "229\n",
      "https://www.espncricinfo.com/ci/content/player/caps.html?country=2;class=3\n",
      "94\n",
      "94\n",
      "https://www.espncricinfo.com/ci/content/player/caps.html?country=25;class=1\n",
      "96\n",
      "96\n",
      "https://www.espncricinfo.com/ci/content/player/caps.html?country=25;class=2\n",
      "133\n",
      "133\n",
      "https://www.espncricinfo.com/ci/content/player/caps.html?country=25;class=3\n",
      "68\n",
      "68\n",
      "https://www.espncricinfo.com/ci/content/player/caps.html?country=1;class=1\n",
      "695\n",
      "695\n",
      "https://www.espncricinfo.com/ci/content/player/caps.html?country=1;class=2\n",
      "257\n",
      "257\n",
      "https://www.espncricinfo.com/ci/content/player/caps.html?country=1;class=3\n",
      "91\n",
      "91\n",
      "https://www.espncricinfo.com/ci/content/player/caps.html?country=6;class=1\n",
      "296\n",
      "296\n",
      "https://www.espncricinfo.com/ci/content/player/caps.html?country=6;class=2\n",
      "231\n",
      "231\n",
      "https://www.espncricinfo.com/ci/content/player/caps.html?country=6;class=3\n",
      "82\n",
      "82\n",
      "https://www.espncricinfo.com/ci/content/player/caps.html?country=5;class=1\n",
      "279\n",
      "279\n",
      "https://www.espncricinfo.com/ci/content/player/caps.html?country=5;class=2\n",
      "197\n",
      "197\n",
      "https://www.espncricinfo.com/ci/content/player/caps.html?country=5;class=3\n",
      "83\n",
      "83\n",
      "https://www.espncricinfo.com/ci/content/player/caps.html?country=7;class=1\n",
      "240\n",
      "240\n",
      "https://www.espncricinfo.com/ci/content/player/caps.html?country=7;class=2\n",
      "224\n",
      "224\n",
      "https://www.espncricinfo.com/ci/content/player/caps.html?country=7;class=3\n",
      "86\n",
      "86\n",
      "https://www.espncricinfo.com/ci/content/player/caps.html?country=3;class=1\n",
      "345\n",
      "345\n",
      "https://www.espncricinfo.com/ci/content/player/caps.html?country=3;class=2\n",
      "139\n",
      "139\n",
      "https://www.espncricinfo.com/ci/content/player/caps.html?country=3;class=3\n",
      "86\n",
      "86\n",
      "https://www.espncricinfo.com/ci/content/player/caps.html?country=8;class=1\n",
      "150\n",
      "150\n",
      "https://www.espncricinfo.com/ci/content/player/caps.html?country=8;class=2\n",
      "192\n",
      "192\n",
      "https://www.espncricinfo.com/ci/content/player/caps.html?country=8;class=3\n",
      "84\n",
      "84\n",
      "https://www.espncricinfo.com/ci/content/player/caps.html?country=4;class=1\n",
      "320\n",
      "320\n",
      "https://www.espncricinfo.com/ci/content/player/caps.html?country=4;class=2\n",
      "196\n",
      "196\n",
      "https://www.espncricinfo.com/ci/content/player/caps.html?country=4;class=3\n",
      "83\n",
      "83\n",
      "https://www.espncricinfo.com/ci/content/player/caps.html?country=9;class=1\n",
      "113\n",
      "113\n",
      "https://www.espncricinfo.com/ci/content/player/caps.html?country=9;class=2\n",
      "142\n",
      "142\n",
      "https://www.espncricinfo.com/ci/content/player/caps.html?country=9;class=3\n",
      "61\n",
      "61\n"
     ]
    }
   ],
   "source": [
    "# Test links for webscraping\n",
    "# Country list 1-10\n",
    "# Classes 1 = test, 2= odi, 3= t20\n",
    "Capping_data = pd.DataFrame()\n",
    "for i in range(len(country_data)):\n",
    "    for j in range(1,4):\n",
    "        link = 'https://www.espncricinfo.com/ci/content/player/caps.html?country=%s;class=%s' % (country_data.Id[i],j)\n",
    "        print(link)\n",
    "        data = extract_data(link,i,j)\n",
    "        #print(data)\n",
    "        Capping_data = pd.concat([Capping_data,data],ignore_index = True)"
   ]
  },
  {
   "cell_type": "code",
   "execution_count": 15,
   "metadata": {},
   "outputs": [],
   "source": [
    "# For Player Data\n",
    "def extract_data(link,i,j):\n",
    "    response = requests.get(link)\n",
    "    html_soup = BeautifulSoup(response.text, 'html.parser')\n",
    "    text = str(html_soup.find_all(\"li\", class_=\"sep\"))\n",
    "    #html_soup.find_all(\"li\")\n",
    "    player_name = re.findall(r'(?<=le;\">)[A-Za-z -.0-9]+(?=<\\/a)', text)\n",
    "    player_first_match = re.findall(r'(?<=html\">)[A-Za-z -.,0-9\\/]+(?=<\\/a)', text)\n",
    "    player_id = re.findall(r'(?<=player/)[A-Za-z -.,0-9\\/]+(?=\\.html)', text)\n",
    "\n",
    "    print(len(player_name))\n",
    "    print(len(player_first_match))\n",
    "\n",
    "\n",
    "    Capped_players = pd.DataFrame({\n",
    "                                'Player Name' : player_name,\n",
    "                                  'Player First Match' : player_first_match,\n",
    "                                    'Player_cricinfo_id' : player_id\n",
    "                                    })\n",
    "\n",
    "    Capped_players['Format'] = Format_dict[str(j)]\n",
    "    Capped_players['Format_id'] = str(j)\n",
    "    Capped_players['Country'] = country_data['Country_Name'][i]\n",
    "    Capped_players['Country_id'] = country_data['Id'][i]\n",
    "    #print(Capped_players)\n",
    "    return(Capped_players)"
   ]
  },
  {
   "cell_type": "code",
   "execution_count": 18,
   "metadata": {},
   "outputs": [],
   "source": [
    "# Writing out\n",
    "\n",
    "Capping_data.to_csv(\"Capped_players.csv\",index=False)"
   ]
  },
  {
   "cell_type": "code",
   "execution_count": null,
   "metadata": {},
   "outputs": [],
   "source": []
  }
 ],
 "metadata": {
  "kernelspec": {
   "display_name": "Python 3",
   "language": "python",
   "name": "python3"
  },
  "language_info": {
   "codemirror_mode": {
    "name": "ipython",
    "version": 3
   },
   "file_extension": ".py",
   "mimetype": "text/x-python",
   "name": "python",
   "nbconvert_exporter": "python",
   "pygments_lexer": "ipython3",
   "version": "3.7.4"
  }
 },
 "nbformat": 4,
 "nbformat_minor": 2
}
